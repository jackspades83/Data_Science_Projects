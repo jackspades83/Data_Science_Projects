{
 "cells": [
  {
   "cell_type": "code",
   "execution_count": 1,
   "metadata": {},
   "outputs": [],
   "source": [
    "import tkinter as tk\n",
    "from tkinter import *\n",
    "from tkinter.ttk import Combobox\n",
    "from tkinter import ttk\n",
    "import pandas as pd\n",
    "import numpy as np\n",
    "import math"
   ]
  },
  {
   "cell_type": "code",
   "execution_count": 2,
   "metadata": {},
   "outputs": [],
   "source": [
    "df_tel = pd.read_csv(\"TelcomCustomer-Churn.csv\")"
   ]
  },
  {
   "cell_type": "code",
   "execution_count": 3,
   "metadata": {},
   "outputs": [
    {
     "data": {
      "text/html": [
       "<div>\n",
       "<style scoped>\n",
       "    .dataframe tbody tr th:only-of-type {\n",
       "        vertical-align: middle;\n",
       "    }\n",
       "\n",
       "    .dataframe tbody tr th {\n",
       "        vertical-align: top;\n",
       "    }\n",
       "\n",
       "    .dataframe thead th {\n",
       "        text-align: right;\n",
       "    }\n",
       "</style>\n",
       "<table border=\"1\" class=\"dataframe\">\n",
       "  <thead>\n",
       "    <tr style=\"text-align: right;\">\n",
       "      <th></th>\n",
       "      <th>SeniorCitizen</th>\n",
       "      <th>tenure</th>\n",
       "      <th>MonthlyCharges</th>\n",
       "    </tr>\n",
       "  </thead>\n",
       "  <tbody>\n",
       "    <tr>\n",
       "      <th>count</th>\n",
       "      <td>7043.000000</td>\n",
       "      <td>7043.000000</td>\n",
       "      <td>7043.000000</td>\n",
       "    </tr>\n",
       "    <tr>\n",
       "      <th>mean</th>\n",
       "      <td>0.162147</td>\n",
       "      <td>32.371149</td>\n",
       "      <td>64.761692</td>\n",
       "    </tr>\n",
       "    <tr>\n",
       "      <th>std</th>\n",
       "      <td>0.368612</td>\n",
       "      <td>24.559481</td>\n",
       "      <td>30.090047</td>\n",
       "    </tr>\n",
       "    <tr>\n",
       "      <th>min</th>\n",
       "      <td>0.000000</td>\n",
       "      <td>0.000000</td>\n",
       "      <td>18.250000</td>\n",
       "    </tr>\n",
       "    <tr>\n",
       "      <th>25%</th>\n",
       "      <td>0.000000</td>\n",
       "      <td>9.000000</td>\n",
       "      <td>35.500000</td>\n",
       "    </tr>\n",
       "    <tr>\n",
       "      <th>50%</th>\n",
       "      <td>0.000000</td>\n",
       "      <td>29.000000</td>\n",
       "      <td>70.350000</td>\n",
       "    </tr>\n",
       "    <tr>\n",
       "      <th>75%</th>\n",
       "      <td>0.000000</td>\n",
       "      <td>55.000000</td>\n",
       "      <td>89.850000</td>\n",
       "    </tr>\n",
       "    <tr>\n",
       "      <th>max</th>\n",
       "      <td>1.000000</td>\n",
       "      <td>72.000000</td>\n",
       "      <td>118.750000</td>\n",
       "    </tr>\n",
       "  </tbody>\n",
       "</table>\n",
       "</div>"
      ],
      "text/plain": [
       "       SeniorCitizen       tenure  MonthlyCharges\n",
       "count    7043.000000  7043.000000     7043.000000\n",
       "mean        0.162147    32.371149       64.761692\n",
       "std         0.368612    24.559481       30.090047\n",
       "min         0.000000     0.000000       18.250000\n",
       "25%         0.000000     9.000000       35.500000\n",
       "50%         0.000000    29.000000       70.350000\n",
       "75%         0.000000    55.000000       89.850000\n",
       "max         1.000000    72.000000      118.750000"
      ]
     },
     "execution_count": 3,
     "metadata": {},
     "output_type": "execute_result"
    }
   ],
   "source": [
    "df_tel.describe()"
   ]
  },
  {
   "cell_type": "code",
   "execution_count": 4,
   "metadata": {},
   "outputs": [
    {
     "name": "stdout",
     "output_type": "stream",
     "text": [
      "<class 'pandas.core.frame.DataFrame'>\n",
      "RangeIndex: 7043 entries, 0 to 7042\n",
      "Data columns (total 21 columns):\n",
      " #   Column            Non-Null Count  Dtype  \n",
      "---  ------            --------------  -----  \n",
      " 0   customerID        7043 non-null   object \n",
      " 1   gender            7043 non-null   object \n",
      " 2   SeniorCitizen     7043 non-null   int64  \n",
      " 3   Partner           7043 non-null   object \n",
      " 4   Dependents        7043 non-null   object \n",
      " 5   tenure            7043 non-null   int64  \n",
      " 6   PhoneService      7043 non-null   object \n",
      " 7   MultipleLines     7043 non-null   object \n",
      " 8   InternetService   7043 non-null   object \n",
      " 9   OnlineSecurity    7043 non-null   object \n",
      " 10  OnlineBackup      7043 non-null   object \n",
      " 11  DeviceProtection  7043 non-null   object \n",
      " 12  TechSupport       7043 non-null   object \n",
      " 13  StreamingTV       7043 non-null   object \n",
      " 14  StreamingMovies   7043 non-null   object \n",
      " 15  Contract          7043 non-null   object \n",
      " 16  PaperlessBilling  7043 non-null   object \n",
      " 17  PaymentMethod     7043 non-null   object \n",
      " 18  MonthlyCharges    7043 non-null   float64\n",
      " 19  TotalCharges      7043 non-null   object \n",
      " 20  Churn             7043 non-null   object \n",
      "dtypes: float64(1), int64(2), object(18)\n",
      "memory usage: 1.1+ MB\n"
     ]
    }
   ],
   "source": [
    "df_tel.info()"
   ]
  },
  {
   "cell_type": "code",
   "execution_count": 5,
   "metadata": {},
   "outputs": [
    {
     "data": {
      "text/plain": [
       "Index(['gender', 'Partner', 'Dependents', 'PhoneService', 'MultipleLines',\n",
       "       'InternetService', 'OnlineSecurity', 'OnlineBackup', 'DeviceProtection',\n",
       "       'TechSupport', 'StreamingTV', 'StreamingMovies', 'Contract',\n",
       "       'PaperlessBilling', 'PaymentMethod', 'TotalCharges'],\n",
       "      dtype='object')"
      ]
     },
     "execution_count": 5,
     "metadata": {},
     "output_type": "execute_result"
    }
   ],
   "source": [
    "import math\n",
    "df_tel.select_dtypes(include=['object']).columns[1:-1]\n",
    "# math.ceil(df_tel[list(df_tel.select_dtypes(include=['int64', 'float64']).columns)[1]].max()/10)*10"
   ]
  },
  {
   "cell_type": "code",
   "execution_count": 6,
   "metadata": {},
   "outputs": [],
   "source": [
    "def get_data(event):\n",
    "    global pred_data\n",
    "    pred_data={}\n",
    "    idx=0\n",
    "    for col in list(df_tel.select_dtypes(include=['object']).columns)[1:-1]:\n",
    "        pred_data[col] = cb[idx].get()\n",
    "        idx+=1\n",
    "    idx=0\n",
    "    for col in list(df_tel.select_dtypes(include=['int64', 'float64']).columns):\n",
    "        pred_data[col] = slider[idx].get()\n",
    "        idx+=1\n",
    "    window.destroy()\n",
    "    return()"
   ]
  },
  {
   "cell_type": "code",
   "execution_count": 7,
   "metadata": {},
   "outputs": [],
   "source": [
    "window = tk.Tk()\n",
    "var = tk.StringVar()\n",
    "\n",
    "x=10\n",
    "y = 50\n",
    "cb=[]\n",
    "for col in list(df_tel.select_dtypes(include=['object']).columns)[1:-1]:\n",
    "    ls_col = df_tel[col].unique()\n",
    "    # Label\n",
    "    txt = ttk.Label(window, text = \"Select the \"+col+\" :\", font = (\"Times New Roman\", 10))\n",
    "#     var.set(ls_gen[0])\n",
    "    data = tuple(ls_col)\n",
    "    cb.append(tk.ttk.Combobox(window, values=data, textvariable=data[0]))\n",
    "    txt.place(x=x, y=y-22)\n",
    "    cb[-1].place(x=x, y=y)\n",
    "    if x+200<400:\n",
    "        x+=200\n",
    "    else:\n",
    "        x=10\n",
    "        y+=70\n",
    "    cb[-1].current(0)\n",
    "    \n",
    "x=410\n",
    "y=50\n",
    "slider = []\n",
    "for col in list(df_tel.select_dtypes(include=['int64', 'float64']).columns):\n",
    "    \n",
    "    txt = ttk.Label(window, text = \"Select the \"+col+\" :\", font = (\"Times New Roman\", 10))\n",
    "    txt.place(x=x, y=y-22)\n",
    "    \n",
    "    to = math.ceil(df_tel[col].max()/10)*10\n",
    "    tickinterval = (to - 0)/10\n",
    "    slider.append(Scale(window, from_=0, to=to, tickinterval=to/(to/10), length=140))\n",
    "    slider[-1].set(round(df_tel[col].mean()/10)*10)\n",
    "    slider[-1].place(x=x, y=y)\n",
    "    y+=180\n",
    "\n",
    "action = ttk.Button(window, text=\"Predict\")\n",
    "action.bind('<Button-1>', get_data)\n",
    "action.place(x=250, y=600)\n",
    "\n",
    "window.title(\"Telcom Customer attributes\")\n",
    "window.geometry(\"580x650+10+10\")\n",
    "# window.configure(background=\"blue\")\n",
    "window.lift()\n",
    "window.mainloop()"
   ]
  },
  {
   "cell_type": "code",
   "execution_count": 8,
   "metadata": {},
   "outputs": [
    {
     "data": {
      "text/plain": [
       "{'gender': 'Male',\n",
       " 'Partner': 'Yes',\n",
       " 'Dependents': 'Yes',\n",
       " 'PhoneService': 'Yes',\n",
       " 'MultipleLines': 'No phone service',\n",
       " 'InternetService': 'DSL',\n",
       " 'OnlineSecurity': 'Yes',\n",
       " 'OnlineBackup': 'Yes',\n",
       " 'DeviceProtection': 'Yes',\n",
       " 'TechSupport': 'Yes',\n",
       " 'StreamingTV': 'Yes',\n",
       " 'StreamingMovies': 'Yes',\n",
       " 'Contract': 'Month-to-month',\n",
       " 'PaperlessBilling': 'Yes',\n",
       " 'PaymentMethod': 'Electronic check',\n",
       " 'TotalCharges': '29.85',\n",
       " 'SeniorCitizen': 0,\n",
       " 'tenure': 54,\n",
       " 'MonthlyCharges': 95}"
      ]
     },
     "execution_count": 8,
     "metadata": {},
     "output_type": "execute_result"
    }
   ],
   "source": [
    "pred_data"
   ]
  }
 ],
 "metadata": {
  "kernelspec": {
   "display_name": "Python 3",
   "language": "python",
   "name": "python3"
  },
  "language_info": {
   "codemirror_mode": {
    "name": "ipython",
    "version": 3
   },
   "file_extension": ".py",
   "mimetype": "text/x-python",
   "name": "python",
   "nbconvert_exporter": "python",
   "pygments_lexer": "ipython3",
   "version": "3.8.8"
  }
 },
 "nbformat": 4,
 "nbformat_minor": 4
}
